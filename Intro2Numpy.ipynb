{
 "cells": [
  {
   "cell_type": "markdown",
   "metadata": {},
   "source": [
    "# Why use NumPy?\n",
    "Arrays use less memory (thus more efficient) than standard Python arrays at the cost requiring homogeneous arrays.\n",
    "\n",
    "First, let's import numpy"
   ]
  },
  {
   "cell_type": "code",
   "execution_count": 1,
   "metadata": {},
   "outputs": [],
   "source": [
    "import numpy as np"
   ]
  },
  {
   "cell_type": "markdown",
   "metadata": {},
   "source": [
    "# Arrays\n",
    "The __rank__ of an array is the number of dimensions and the __shape__ is a tuple of integers giving the size of the array along each dimension.\n",
    "\n",
    "We start off with basic arrays (note, the basic type is a `np.float64` but we can change this using `dtype = np.int64`, etc. ):\n",
    "- array\n",
    "- zeros/ones\n",
    "- arange\n",
    "- linespace\n",
    "\n",
    "Indexing and Slicing are done like normal"
   ]
  },
  {
   "cell_type": "code",
   "execution_count": 2,
   "metadata": {},
   "outputs": [
    {
     "name": "stdout",
     "output_type": "stream",
     "text": [
      "[1 2 3 4 5 6] of size (6,)\n",
      "[[ 1  2  3  4]\n",
      " [ 5  6  7  8]\n",
      " [ 9 10 11 12]] of size (3, 4) (i.e. 3 elements of 4 elements each)\n",
      "We index and slice the array like normal 11\n",
      "-----------\n",
      "[1. 1. 1. 1.]\n",
      "-----------\n",
      "[0 1 2 3]\n",
      "[2 4 6 8]\n",
      "[ 2.  4.  6.  8. 10.]\n"
     ]
    }
   ],
   "source": [
    "a1 = np.array([1, 2, 3, 4, 5, 6])\n",
    "a2 = np.array([[1,2,3,4], [5,6,7,8], [9, 10, 11, 12]])\n",
    "print(a1, \"of size\", a1.shape)\n",
    "print(a2, \"of size\", a2.shape, \"(i.e. 3 elements of 4 elements each)\")\n",
    "print(\"We index and slice the array like normal\", a2[2][2])\n",
    "print(\"-----------\")\n",
    "# We can also easily create an array filled with 0's or 1's.\n",
    "zeros = np.zeros(3)\n",
    "ones = np.ones(4)\n",
    "print(ones)\n",
    "print(\"-----------\")\n",
    "# We can also create an array with a range of elements\n",
    "rang = np.arange(4)\n",
    "print(rang)\n",
    "rang = np.arange(2, 9, 2) #start, end, step_size\n",
    "print(rang)\n",
    "# Instead of specifying a step size, we can take a selected number of uniform steps between 2 points (inclusive of start & end)\n",
    "uniform = np.linspace(2, 10, 5)\n",
    "print(uniform)"
   ]
  },
  {
   "cell_type": "markdown",
   "metadata": {},
   "source": [
    "# Getting Array Info"
   ]
  },
  {
   "cell_type": "code",
   "execution_count": 3,
   "metadata": {},
   "outputs": [
    {
     "name": "stdout",
     "output_type": "stream",
     "text": [
      "Size: 12\n",
      "Dimensions: 2\n",
      "Shape: (3, 4)\n"
     ]
    }
   ],
   "source": [
    "a1 = np.array([1, 2, 3, 4, 5, 6])\n",
    "a2 = np.array([[1,2,3,4], [5,6,7,8], [9, 10, 11, 12]])\n",
    "print(\"Size:\", a2.size)\n",
    "print(\"Dimensions:\", a2.ndim)\n",
    "print(\"Shape:\", a2.shape)"
   ]
  },
  {
   "cell_type": "markdown",
   "metadata": {},
   "source": [
    "# Adding, Removing and Sorting Elements\n",
    "\n",
    "We can sort using `np.sort(array)`\n",
    "We can concatenate using `np.concatenate(a1, a2)`"
   ]
  },
  {
   "cell_type": "code",
   "execution_count": 4,
   "metadata": {},
   "outputs": [
    {
     "name": "stdout",
     "output_type": "stream",
     "text": [
      "[1 2 3 4 5 6 7 8]\n",
      "[1 2 3 4 5 6 7 8]\n",
      "[[1 2]\n",
      " [3 4]\n",
      " [5 6]]\n"
     ]
    }
   ],
   "source": [
    "arr = np.array([2, 1, 5, 3, 7, 4, 6, 8])\n",
    "print(np.sort(arr))\n",
    "a = np.array([1, 2, 3, 4])\n",
    "b = np.array([5, 6, 7, 8])\n",
    "print(np.concatenate((a,b)))\n",
    "x = np.array([[1, 2], [3, 4]])\n",
    "y = np.array([[5, 6]])\n",
    "print(np.concatenate((x,y), axis = 0))"
   ]
  },
  {
   "cell_type": "markdown",
   "metadata": {},
   "source": [
    "# Reshaping and Flipping an Array"
   ]
  },
  {
   "cell_type": "markdown",
   "metadata": {},
   "source": [
    "We can reshape with `arr.reshape(rows, columns)`"
   ]
  },
  {
   "cell_type": "code",
   "execution_count": 5,
   "metadata": {},
   "outputs": [
    {
     "name": "stdout",
     "output_type": "stream",
     "text": [
      "[0 1 2 3 4 5]\n",
      "We can now reshape this array by specifying the number of rows and columns we want (# elements must remain the same): \n",
      "[[0 1]\n",
      " [2 3]\n",
      " [4 5]]\n"
     ]
    }
   ],
   "source": [
    "a = np.arange(6)\n",
    "print(a)\n",
    "print(\"We can now reshape this array by specifying the number of rows and columns we want (# elements must remain the same): \")\n",
    "b = a.reshape(3, 2)\n",
    "print(b)"
   ]
  },
  {
   "cell_type": "markdown",
   "metadata": {},
   "source": [
    "We can flip an array using `np.flip()`. We can also set the axis upon which to flip. <br> If needed, we can reverse a specific row or column."
   ]
  },
  {
   "cell_type": "code",
   "execution_count": 6,
   "metadata": {},
   "outputs": [
    {
     "name": "stdout",
     "output_type": "stream",
     "text": [
      "[8 7 6 5 4 3 2 1]\n",
      "---- 2D array:\n",
      "[[12 11 10  9]\n",
      " [ 8  7  6  5]\n",
      " [ 4  3  2  1]]\n",
      "---- \n",
      "We can specify an axis to flip: \n",
      "[[ 9 10 11 12]\n",
      " [ 5  6  7  8]\n",
      " [ 1  2  3  4]]\n",
      "----\n",
      "[[ 4  3  2  1]\n",
      " [ 8  7  6  5]\n",
      " [12 11 10  9]]\n",
      "---- Flip specific row:\n",
      "[[ 1  2  3  4]\n",
      " [ 8  7  6  5]\n",
      " [ 9 10 11 12]]\n",
      "---- Flip specific column:\n",
      "[[ 1 10  3  4]\n",
      " [ 5  6  7  8]\n",
      " [ 9  2 11 12]]\n"
     ]
    }
   ],
   "source": [
    "arr = np.array([1, 2, 3, 4, 5, 6, 7, 8])\n",
    "reversed_arr = np.flip(arr)\n",
    "print(reversed_arr)\n",
    "print(\"---- 2D array:\")\n",
    "arr_2d = np.array([[1, 2, 3, 4], [5, 6, 7, 8], [9, 10, 11, 12]])\n",
    "reversed_arr = np.flip(arr_2d)\n",
    "print(reversed_arr)\n",
    "print(\"---- \\nWe can specify an axis to flip: \")\n",
    "print(np.flip(arr_2d, axis = 0)) # rows\n",
    "print(\"----\")\n",
    "print(np.flip(arr_2d, axis = 1)) # columns\n",
    "print(\"---- Flip specific row:\")\n",
    "arr_2d[1] = np.flip(arr_2d[1])\n",
    "print(arr_2d)\n",
    "print(\"---- Flip specific column:\")\n",
    "arr_2d = np.array([[1, 2, 3, 4], [5, 6, 7, 8], [9, 10, 11, 12]]) #Just to reset from previous changes\n",
    "arr_2d[:, 1] = np.flip(arr_2d[:,1])\n",
    "print(arr_2d)\n"
   ]
  },
  {
   "cell_type": "markdown",
   "metadata": {},
   "source": [
    "# Subsets of Array\n",
    "We can get a subset of an array without using loops!"
   ]
  },
  {
   "cell_type": "code",
   "execution_count": 7,
   "metadata": {},
   "outputs": [
    {
     "name": "stdout",
     "output_type": "stream",
     "text": [
      "[1 2 3 4]\n"
     ]
    }
   ],
   "source": [
    "a = np.array([[1 , 2, 3, 4], [5, 6, 7, 8], [9, 10, 11, 12]])\n",
    "print(a[a < 5])"
   ]
  },
  {
   "cell_type": "markdown",
   "metadata": {},
   "source": [
    "We can even create a boolean array and use that to index an array based on some condition"
   ]
  },
  {
   "cell_type": "code",
   "execution_count": 8,
   "metadata": {},
   "outputs": [
    {
     "name": "stdout",
     "output_type": "stream",
     "text": [
      "[[False False False False]\n",
      " [ True  True  True  True]\n",
      " [ True  True  True  True]]\n",
      "[ 5  6  7  8  9 10 11 12]\n",
      "[ 2  4  6  8 10 12]\n"
     ]
    }
   ],
   "source": [
    "five_up = (a >= 5)\n",
    "print(five_up)\n",
    "print(a[five_up])\n",
    "divisibleBy2 = (a%2 == 0)\n",
    "print(a[divisibleBy2])"
   ]
  },
  {
   "cell_type": "markdown",
   "metadata": {},
   "source": [
    "We can use `&` and `|` to combine operations"
   ]
  },
  {
   "cell_type": "code",
   "execution_count": 9,
   "metadata": {},
   "outputs": [
    {
     "name": "stdout",
     "output_type": "stream",
     "text": [
      "[ 3  4  5  6  7  8  9 10]\n"
     ]
    }
   ],
   "source": [
    "c = a[(a>2) & (a < 11)]\n",
    "print(c)"
   ]
  },
  {
   "cell_type": "markdown",
   "metadata": {},
   "source": [
    "We can be even more complex and create coordinates using `zip` and `list` (list is needed to transform object into list)"
   ]
  },
  {
   "cell_type": "code",
   "execution_count": 10,
   "metadata": {},
   "outputs": [
    {
     "name": "stdout",
     "output_type": "stream",
     "text": [
      "(array([0, 0, 0, 0, 1, 1], dtype=int64), array([0, 1, 2, 3, 0, 1], dtype=int64))\n",
      "This returns a tuple of arrays. The first is the row indices of where the values are found, the second is the column indices\n",
      "(0, 0)\n",
      "(0, 1)\n",
      "(0, 2)\n",
      "(0, 3)\n",
      "(1, 0)\n",
      "(1, 1)\n"
     ]
    }
   ],
   "source": [
    "b = np.nonzero(a < 7)\n",
    "print(b)\n",
    "print(\"This returns a tuple of arrays. The first is the row indices of where the values are found, the second is the column indices\")\n",
    "list_of_coordinates = list(zip(b[0], b[1]))\n",
    "for i in list_of_coordinates:\n",
    "    print(i)"
   ]
  },
  {
   "cell_type": "markdown",
   "metadata": {},
   "source": [
    "# Basic Array Operations"
   ]
  },
  {
   "cell_type": "markdown",
   "metadata": {},
   "source": [
    "Basic Math"
   ]
  },
  {
   "cell_type": "code",
   "execution_count": 11,
   "metadata": {},
   "outputs": [
    {
     "name": "stdout",
     "output_type": "stream",
     "text": [
      "[2 3]\n",
      "[0 1]\n",
      "[1 2]\n",
      "[1. 2.]\n",
      "3\n"
     ]
    }
   ],
   "source": [
    "data = np.array([1, 2])\n",
    "ones = np.ones(2, dtype=int)\n",
    "print(data + ones)\n",
    "print(data - ones)\n",
    "print(data * ones)\n",
    "print(data / ones)\n",
    "print(sum(data))"
   ]
  },
  {
   "cell_type": "markdown",
   "metadata": {},
   "source": [
    "When it comes to 2D arrays we would have to specify the axis to sum over"
   ]
  },
  {
   "cell_type": "code",
   "execution_count": 12,
   "metadata": {},
   "outputs": [
    {
     "name": "stdout",
     "output_type": "stream",
     "text": [
      "[[1 2]\n",
      " [4 5]]\n",
      "-------\n",
      "[5 7]\n",
      "-------\n",
      "[3 9]\n"
     ]
    }
   ],
   "source": [
    "b = np.array([[1,2], [4,5]])\n",
    "print(b)\n",
    "print(\"-------\")\n",
    "print(b.sum(axis = 0)) #down columns\n",
    "print(\"-------\")\n",
    "print(b.sum(axis = 1)) # across rows"
   ]
  },
  {
   "cell_type": "markdown",
   "metadata": {},
   "source": [
    "Broadcasting <br>\n",
    "This allows us to do operations between scalars and vectors where the scalar applies to each coordinate of the vector."
   ]
  },
  {
   "cell_type": "code",
   "execution_count": 13,
   "metadata": {},
   "outputs": [
    {
     "data": {
      "text/plain": [
       "array([1.5, 3. ])"
      ]
     },
     "execution_count": 13,
     "metadata": {},
     "output_type": "execute_result"
    }
   ],
   "source": [
    "data = np.array([1, 2]) \n",
    "data * 1.5"
   ]
  },
  {
   "cell_type": "markdown",
   "metadata": {},
   "source": [
    "## Summary Operations\n",
    "Some Stats Stuff (these also apply to matrices)"
   ]
  },
  {
   "cell_type": "code",
   "execution_count": 14,
   "metadata": {},
   "outputs": [
    {
     "name": "stdout",
     "output_type": "stream",
     "text": [
      "Sum: 13\n",
      "Min:  1\n",
      "Max:  5\n",
      "Product:  60\n",
      "Mean:  2.6\n",
      "Std:  1.3564659966250536\n"
     ]
    }
   ],
   "source": [
    "data = np.array([2, 3, 5, 1, 2])\n",
    "print(\"Sum:\", data.sum())\n",
    "print(\"Min: \", data.min())\n",
    "print(\"Max: \", data.max())\n",
    "print(\"Product: \", data.prod())\n",
    "print(\"Mean: \", data.mean())\n",
    "print(\"Std: \", data.std())"
   ]
  },
  {
   "cell_type": "markdown",
   "metadata": {},
   "source": [
    "# Matrices"
   ]
  },
  {
   "cell_type": "markdown",
   "metadata": {},
   "source": [
    "## Arithmetic"
   ]
  },
  {
   "cell_type": "code",
   "execution_count": 15,
   "metadata": {},
   "outputs": [
    {
     "name": "stdout",
     "output_type": "stream",
     "text": [
      "[[2 3]\n",
      " [4 5]]\n",
      "-------\n",
      "We can also do arithmetic operations with a matrix and \"vector\" i.e. single row/column matrix\n",
      "[[2 3]\n",
      " [4 5]\n",
      " [6 7]]\n"
     ]
    }
   ],
   "source": [
    "data = np.array([[1, 2], [3, 4]])\n",
    "ones = np.array([[1, 1], [1, 1]])\n",
    "print(data + ones)\n",
    "print(\"-------\")\n",
    "print(\"We can also do arithmetic operations with a matrix and \\\"vector\\\" i.e. single row/column matrix\")\n",
    "data = np.array([[1, 2], [3, 4], [5, 6]])\n",
    "ones_row = np.array([[1, 1]])\n",
    "print(data + ones_row)"
   ]
  },
  {
   "cell_type": "markdown",
   "metadata": {},
   "source": [
    "## Reshaping"
   ]
  },
  {
   "cell_type": "markdown",
   "metadata": {},
   "source": [
    "We can use `reshape` to change the shape of an array"
   ]
  },
  {
   "cell_type": "code",
   "execution_count": 16,
   "metadata": {},
   "outputs": [
    {
     "name": "stdout",
     "output_type": "stream",
     "text": [
      "[[1 2 3]\n",
      " [4 5 6]]\n",
      "----\n",
      "[[1 2]\n",
      " [3 4]\n",
      " [5 6]]\n"
     ]
    }
   ],
   "source": [
    "data = np.arange(1, 7)\n",
    "print(data.reshape(2, 3))\n",
    "print(\"----\")\n",
    "print(data.reshape(3, 2))"
   ]
  },
  {
   "cell_type": "markdown",
   "metadata": {},
   "source": [
    "We can use `transpose` to change the axis of an array"
   ]
  },
  {
   "cell_type": "code",
   "execution_count": 17,
   "metadata": {},
   "outputs": [
    {
     "name": "stdout",
     "output_type": "stream",
     "text": [
      "[[0 1 2]\n",
      " [3 4 5]]\n"
     ]
    },
    {
     "data": {
      "text/plain": [
       "array([[0, 3],\n",
       "       [1, 4],\n",
       "       [2, 5]])"
      ]
     },
     "execution_count": 17,
     "metadata": {},
     "output_type": "execute_result"
    }
   ],
   "source": [
    "arr = np.arange(6).reshape(2, 3)\n",
    "print(arr)\n",
    "arr.T # or arr.transpose()"
   ]
  },
  {
   "cell_type": "markdown",
   "metadata": {},
   "source": [
    "# Random Numbers"
   ]
  },
  {
   "cell_type": "markdown",
   "metadata": {},
   "source": [
    "We can generate random numbers using `np.random.default_rng()`"
   ]
  },
  {
   "cell_type": "code",
   "execution_count": 18,
   "metadata": {},
   "outputs": [
    {
     "name": "stdout",
     "output_type": "stream",
     "text": [
      "0.6327383717136673\n",
      "10 numbers from Standard Normal Dist:  [-0.80514288 -1.59373291  0.28356347 -0.57496088 -0.36875073  0.74437469\n",
      " -0.40394542  1.0831166  -0.37810049  0.17011833]\n",
      "Uniformly generate random numbers over some range:  [8 5 1 7 1]\n",
      "We can generate matrices too:\n",
      " [[7 9 3 4]\n",
      " [8 4 6 3]]\n"
     ]
    }
   ],
   "source": [
    "rng = np.random.default_rng() #random number generator\n",
    "print(rng.random())\n",
    "print(\"10 numbers from Standard Normal Dist: \", rng.standard_normal(10)) \n",
    "print(\"Uniformly generate random numbers over some range: \", rng.integers(low = 0, high = 10, size = 5))\n",
    "print(\"We can generate matrices too:\\n\", rng.integers(0, 10, size = (2,4)))"
   ]
  },
  {
   "cell_type": "markdown",
   "metadata": {},
   "source": [
    "# Unique Items and Counts"
   ]
  },
  {
   "cell_type": "markdown",
   "metadata": {},
   "source": [
    "We can get the unique items of an array using `np.unique(array)`. <br>If we use `return_index = True` as an arguement, it will return the index of unique items. <br> We can use `return_counts = True` as an argument to get the count of each unique item."
   ]
  },
  {
   "cell_type": "code",
   "execution_count": 19,
   "metadata": {},
   "outputs": [
    {
     "name": "stdout",
     "output_type": "stream",
     "text": [
      "[11 12 13 14 15 16 17 18 19 20]\n",
      "[ 0  2  3  4  5  6  7 12 13 14]\n",
      "[3 2 2 2 1 1 1 1 1 1]\n"
     ]
    }
   ],
   "source": [
    "a = np.array([11, 11, 12, 13, 14, 15, 16, 17, 12, 13, 11, 14, 18, 19, 20])\n",
    "#print(np.unique(a))\n",
    "#unique_values, indices_list = np.unique(a, return_index=True)\n",
    "#print(indices_list)\n",
    "#unique_values, count_list = np.unique(a, return_counts=True)\n",
    "#print(count_list)\n",
    "# Can do all in one!\n",
    "unique_values, indices_list, count_list = np.unique(a, return_index=True, return_counts=True)\n",
    "print(unique_values)\n",
    "print(indices_list)\n",
    "print(count_list)\n",
    "\n"
   ]
  },
  {
   "cell_type": "markdown",
   "metadata": {},
   "source": [
    "This also works with 2D arrays. If no axis is specified, the array will be flattened. <br>\n",
    "Use `axis = 0` to get unique rows <br>\n",
    "Use `axis = 1` to get unique columns"
   ]
  },
  {
   "cell_type": "code",
   "execution_count": 20,
   "metadata": {},
   "outputs": [
    {
     "name": "stdout",
     "output_type": "stream",
     "text": [
      "[[ 1  2  3  4]\n",
      " [ 5  6  7  8]\n",
      " [ 9 10 11 12]\n",
      " [ 1  2  3  4]]\n",
      "----- Flattened:\n",
      "[ 1  2  3  4  5  6  7  8  9 10 11 12]\n",
      "----- axis = 0\n",
      "[[ 1  2  3  4]\n",
      " [ 5  6  7  8]\n",
      " [ 9 10 11 12]]\n",
      "----- axis = 1\n",
      "[[ 1  2  3  4]\n",
      " [ 5  6  7  8]\n",
      " [ 9 10 11 12]\n",
      " [ 1  2  3  4]]\n"
     ]
    }
   ],
   "source": [
    "a_2d = np.array([[1, 2, 3, 4], [5, 6, 7, 8], [9, 10, 11, 12], [1, 2, 3, 4]])\n",
    "print(a_2d)\n",
    "print(\"----- Flattened:\")\n",
    "print(np.unique(a_2d))\n",
    "print(\"----- axis = 0\")\n",
    "print(np.unique(a_2d, axis = 0))\n",
    "print(\"----- axis = 1\")\n",
    "print(np.unique(a_2d, axis = 1))\n"
   ]
  },
  {
   "cell_type": "markdown",
   "metadata": {},
   "source": [
    "# Advanced"
   ]
  },
  {
   "cell_type": "markdown",
   "metadata": {},
   "source": [
    "## Formulas\n",
    "For example, let's implement MSE. We can do the following as long as predictions and labels are of the same size (regardless of how many elements)"
   ]
  },
  {
   "cell_type": "code",
   "execution_count": 21,
   "metadata": {},
   "outputs": [
    {
     "ename": "NameError",
     "evalue": "name 'n' is not defined",
     "output_type": "error",
     "traceback": [
      "\u001b[1;31m---------------------------------------------------------------------------\u001b[0m",
      "\u001b[1;31mNameError\u001b[0m                                 Traceback (most recent call last)",
      "Cell \u001b[1;32mIn[21], line 1\u001b[0m\n\u001b[1;32m----> 1\u001b[0m error \u001b[38;5;241m=\u001b[39m (\u001b[38;5;241m1\u001b[39m\u001b[38;5;241m/\u001b[39m\u001b[43mn\u001b[49m) \u001b[38;5;241m*\u001b[39m np\u001b[38;5;241m.\u001b[39msum(np\u001b[38;5;241m.\u001b[39msquare(predictions \u001b[38;5;241m-\u001b[39m labels))\n",
      "\u001b[1;31mNameError\u001b[0m: name 'n' is not defined"
     ]
    }
   ],
   "source": [
    "error = (1/n) * np.sum(np.square(predictions - labels))"
   ]
  },
  {
   "cell_type": "markdown",
   "metadata": {},
   "source": [
    "## Reading CSV\n",
    "The easiest way to do this is by using `Pandas`"
   ]
  },
  {
   "cell_type": "code",
   "execution_count": null,
   "metadata": {},
   "outputs": [
    {
     "ename": "SyntaxError",
     "evalue": "invalid syntax (1842462216.py, line 6)",
     "output_type": "error",
     "traceback": [
      "\u001b[1;36m  Cell \u001b[1;32mIn[75], line 6\u001b[1;36m\u001b[0m\n\u001b[1;33m    [['Billie Holiday' 'Jazz' 1300000 27000000]\u001b[0m\n\u001b[1;37m                              ^\u001b[0m\n\u001b[1;31mSyntaxError\u001b[0m\u001b[1;31m:\u001b[0m invalid syntax\n"
     ]
    }
   ],
   "source": [
    "import pandas as pd\n",
    "\n",
    "# If all of your columns are the same type:\n",
    "x = pd.read_csv('music.csv', header=0).values\n",
    "print(x)\n",
    "[['Billie Holiday' 'Jazz' 1300000 27000000],\n",
    " ['Jimmie Hendrix' 'Rock' 2700000 70000000],\n",
    " ['Miles Davis' 'Jazz' 1500000 48000000],\n",
    " ['SIA' 'Pop' 2000000 74000000]]\n",
    "\n",
    "# You can also simply select the columns you need:\n",
    "x = pd.read_csv('music.csv', usecols=['Artist', 'Plays']).values\n",
    "print(x)\n",
    "[['Billie Holiday' 27000000],\n",
    " ['Jimmie Hendrix' 70000000],\n",
    " ['Miles Davis' 48000000],\n",
    " ['SIA' 74000000]]"
   ]
  },
  {
   "cell_type": "markdown",
   "metadata": {},
   "source": [
    "## Plotting Arrays"
   ]
  },
  {
   "cell_type": "markdown",
   "metadata": {},
   "source": [
    "For this, we will use `matplotlib`"
   ]
  },
  {
   "cell_type": "code",
   "execution_count": 24,
   "metadata": {},
   "outputs": [
    {
     "data": {
      "text/plain": [
       "[<matplotlib.lines.Line2D at 0x203ddc35fd0>]"
      ]
     },
     "execution_count": 24,
     "metadata": {},
     "output_type": "execute_result"
    },
    {
     "data": {
      "image/png": "[encoded data removed]",
      "text/plain": [
       "<Figure size 640x480 with 1 Axes>"
      ]
     },
     "metadata": {},
     "output_type": "display_data"
    }
   ],
   "source": [
    "a = np.array([2, 1, 5, 7, 4, 6, 8, 14, 10, 9, 18, 20, 22])\n",
    "import matplotlib.pyplot as plt\n",
    "plt.plot(a)\n"
   ]
  }
 ],
 "metadata": {
  "kernelspec": {
   "display_name": "Python 3",
   "language": "python",
   "name": "python3"
  },
  "language_info": {
   "codemirror_mode": {
    "name": "ipython",
    "version": 3
   },
   "file_extension": ".py",
   "mimetype": "text/x-python",
   "name": "python",
   "nbconvert_exporter": "python",
   "pygments_lexer": "ipython3",
   "version": "3.8.10"
  }
 },
 "nbformat": 4,
 "nbformat_minor": 2
}
