{
 "cells": [
  {
   "cell_type": "markdown",
   "metadata": {},
   "source": [
    "# Why use NumPy?\n",
    "Arrays use less memory (thus more efficient) than standard Python arrays at the cost requiring homogeneous arrays.\n",
    "\n",
    "First, let's import numpy"
   ]
  },
  {
   "cell_type": "code",
   "execution_count": 1,
   "metadata": {},
   "outputs": [],
   "source": [
    "import numpy as np"
   ]
  },
  {
   "cell_type": "markdown",
   "metadata": {},
   "source": [
    "# Arrays\n",
    "The __rank__ of an array is the number of dimensions and the __shape__ is a tuple of integers giving the size of the array along each dimension.\n",
    "\n",
    "We start off with basic arrays (note, the basic type is a `np.float64` but we can change this using `dtype = np.int64`, etc. ):\n",
    "- array\n",
    "- zeros/ones\n",
    "- arange\n",
    "- linespace\n",
    "\n",
    "Indexing and Slicing are done like normal"
   ]
  },
  {
   "cell_type": "code",
   "execution_count": 43,
   "metadata": {},
   "outputs": [
    {
     "name": "stdout",
     "output_type": "stream",
     "text": [
      "[1 2 3 4 5 6] of size (6,)\n",
      "[[ 1  2  3  4]\n",
      " [ 5  6  7  8]\n",
      " [ 9 10 11 12]] of size (3, 4) (i.e. 3 elements of 4 elements each)\n",
      "We index and slice the array like normal 11\n",
      "-----------\n",
      "[1. 1. 1. 1.]\n",
      "-----------\n",
      "[0 1 2 3]\n",
      "[2 4 6 8]\n",
      "[ 2.  4.  6.  8. 10.]\n"
     ]
    }
   ],
   "source": [
    "a1 = np.array([1, 2, 3, 4, 5, 6])\n",
    "a2 = np.array([[1,2,3,4], [5,6,7,8], [9, 10, 11, 12]])\n",
    "print(a1, \"of size\", a1.shape)\n",
    "print(a2, \"of size\", a2.shape, \"(i.e. 3 elements of 4 elements each)\")\n",
    "print(\"We index and slice the array like normal\", a2[2][2])\n",
    "print(\"-----------\")\n",
    "# We can also easily create an array filled with 0's or 1's.\n",
    "zeros = np.zeros(3)\n",
    "ones = np.ones(4)\n",
    "print(ones)\n",
    "print(\"-----------\")\n",
    "# We can also create an array with a range of elements\n",
    "rang = np.arange(4)\n",
    "print(rang)\n",
    "rang = np.arange(2, 9, 2) #start, end, step_size\n",
    "print(rang)\n",
    "# Instead of specifying a step size, we can take a selected number of uniform steps between 2 points (inclusive of start & end)\n",
    "uniform = np.linspace(2, 10, 5)\n",
    "print(uniform)"
   ]
  },
  {
   "cell_type": "markdown",
   "metadata": {},
   "source": [
    "# Getting Array Info"
   ]
  },
  {
   "cell_type": "code",
   "execution_count": 34,
   "metadata": {},
   "outputs": [
    {
     "name": "stdout",
     "output_type": "stream",
     "text": [
      "Size: 12\n",
      "Dimensions: 2\n",
      "Shape: (3, 4)\n"
     ]
    }
   ],
   "source": [
    "a1 = np.array([1, 2, 3, 4, 5, 6])\n",
    "a2 = np.array([[1,2,3,4], [5,6,7,8], [9, 10, 11, 12]])\n",
    "print(\"Size:\", a2.size)\n",
    "print(\"Dimensions:\", a2.ndim)\n",
    "print(\"Shape:\", a2.shape)"
   ]
  },
  {
   "cell_type": "markdown",
   "metadata": {},
   "source": [
    "# Adding, Removing and Sorting Elements\n",
    "\n",
    "We can sort using `np.sort(array)`\n",
    "We can concatenate using `np.concatenate(a1, a2)`"
   ]
  },
  {
   "cell_type": "code",
   "execution_count": 35,
   "metadata": {},
   "outputs": [
    {
     "name": "stdout",
     "output_type": "stream",
     "text": [
      "[1 2 3 4 5 6 7 8]\n",
      "[1 2 3 4 5 6 7 8]\n",
      "[[1 2]\n",
      " [3 4]\n",
      " [5 6]]\n"
     ]
    }
   ],
   "source": [
    "arr = np.array([2, 1, 5, 3, 7, 4, 6, 8])\n",
    "print(np.sort(arr))\n",
    "a = np.array([1, 2, 3, 4])\n",
    "b = np.array([5, 6, 7, 8])\n",
    "print(np.concatenate((a,b)))\n",
    "x = np.array([[1, 2], [3, 4]])\n",
    "y = np.array([[5, 6]])\n",
    "print(np.concatenate((x,y), axis = 0))"
   ]
  },
  {
   "cell_type": "markdown",
   "metadata": {},
   "source": [
    "# Reshaping an Array"
   ]
  },
  {
   "cell_type": "markdown",
   "metadata": {},
   "source": [
    "We can reshape with `arr.reshape(rows, columns)`"
   ]
  },
  {
   "cell_type": "code",
   "execution_count": 41,
   "metadata": {},
   "outputs": [
    {
     "name": "stdout",
     "output_type": "stream",
     "text": [
      "[0 1 2 3 4 5]\n",
      "We can now reshape this array by specifying the number of rows and columns we want (# elements must remain the same): \n",
      "[[0 1]\n",
      " [2 3]\n",
      " [4 5]]\n"
     ]
    }
   ],
   "source": [
    "a = np.arange(6)\n",
    "print(a)\n",
    "print(\"We can now reshape this array by specifying the number of rows and columns we want (# elements must remain the same): \")\n",
    "b = a.reshape(3, 2)\n",
    "print(b)"
   ]
  },
  {
   "cell_type": "markdown",
   "metadata": {},
   "source": [
    "# Subsets of Array\n",
    "We can get a subset of an array without using loops!"
   ]
  },
  {
   "cell_type": "code",
   "execution_count": 46,
   "metadata": {},
   "outputs": [
    {
     "name": "stdout",
     "output_type": "stream",
     "text": [
      "[1 2 3 4]\n"
     ]
    }
   ],
   "source": [
    "a = np.array([[1 , 2, 3, 4], [5, 6, 7, 8], [9, 10, 11, 12]])\n",
    "print(a[a < 5])"
   ]
  },
  {
   "cell_type": "markdown",
   "metadata": {},
   "source": [
    "We can even create a boolean array and use that to index an array based on some condition"
   ]
  },
  {
   "cell_type": "code",
   "execution_count": 50,
   "metadata": {},
   "outputs": [
    {
     "name": "stdout",
     "output_type": "stream",
     "text": [
      "[[False False False False]\n",
      " [ True  True  True  True]\n",
      " [ True  True  True  True]]\n",
      "[ 5  6  7  8  9 10 11 12]\n",
      "[ 2  4  6  8 10 12]\n"
     ]
    }
   ],
   "source": [
    "five_up = (a >= 5)\n",
    "print(five_up)\n",
    "print(a[five_up])\n",
    "divisibleBy2 = (a%2 == 0)\n",
    "print(a[divisibleBy2])"
   ]
  },
  {
   "cell_type": "markdown",
   "metadata": {},
   "source": [
    "We can use `&` and `|` to combine operations"
   ]
  },
  {
   "cell_type": "code",
   "execution_count": 52,
   "metadata": {},
   "outputs": [
    {
     "name": "stdout",
     "output_type": "stream",
     "text": [
      "[ 3  4  5  6  7  8  9 10]\n"
     ]
    }
   ],
   "source": [
    "c = a[(a>2) & (a < 11)]\n",
    "print(c)"
   ]
  },
  {
   "cell_type": "markdown",
   "metadata": {},
   "source": [
    "We can be even more complex and create coordinates using `zip` and `list` (list is needed to transform object into list)"
   ]
  },
  {
   "cell_type": "code",
   "execution_count": 60,
   "metadata": {},
   "outputs": [
    {
     "name": "stdout",
     "output_type": "stream",
     "text": [
      "(array([0, 0, 0, 0, 1, 1], dtype=int64), array([0, 1, 2, 3, 0, 1], dtype=int64))\n",
      "This returns a tuple of arrays. The first is the row indices of where the values are found, the second is the column indices\n",
      "(0, 0)\n",
      "(0, 1)\n",
      "(0, 2)\n",
      "(0, 3)\n",
      "(1, 0)\n",
      "(1, 1)\n"
     ]
    }
   ],
   "source": [
    "b = np.nonzero(a < 7)\n",
    "print(b)\n",
    "print(\"This returns a tuple of arrays. The first is the row indices of where the values are found, the second is the column indices\")\n",
    "list_of_coordinates = list(zip(b[0], b[1]))\n",
    "for i in list_of_coordinates:\n",
    "    print(i)"
   ]
  },
  {
   "cell_type": "markdown",
   "metadata": {},
   "source": [
    "# Basic Array Operations"
   ]
  },
  {
   "cell_type": "markdown",
   "metadata": {},
   "source": [
    "Basic Math"
   ]
  },
  {
   "cell_type": "code",
   "execution_count": 67,
   "metadata": {},
   "outputs": [
    {
     "name": "stdout",
     "output_type": "stream",
     "text": [
      "[2 3]\n",
      "[0 1]\n",
      "[1 2]\n",
      "[1. 2.]\n",
      "3\n"
     ]
    }
   ],
   "source": [
    "data = np.array([1, 2])\n",
    "ones = np.ones(2, dtype=int)\n",
    "print(data + ones)\n",
    "print(data - ones)\n",
    "print(data * ones)\n",
    "print(data / ones)\n",
    "print(sum(data))"
   ]
  },
  {
   "cell_type": "markdown",
   "metadata": {},
   "source": [
    "When it comes to 2D arrays we would have to specify the axis to sum over"
   ]
  },
  {
   "cell_type": "code",
   "execution_count": 78,
   "metadata": {},
   "outputs": [
    {
     "name": "stdout",
     "output_type": "stream",
     "text": [
      "[[1 2]\n",
      " [4 5]]\n",
      "[5 7]\n",
      "[3 9]\n"
     ]
    }
   ],
   "source": [
    "b = np.array([[1,2], [4,5]])\n",
    "print(b)\n",
    "print(b.sum(axis = 0)) #down columns\n",
    "print(b.sum(axis = 1)) # across rows"
   ]
  }
 ],
 "metadata": {
  "kernelspec": {
   "display_name": "Python 3",
   "language": "python",
   "name": "python3"
  },
  "language_info": {
   "codemirror_mode": {
    "name": "ipython",
    "version": 3
   },
   "file_extension": ".py",
   "mimetype": "text/x-python",
   "name": "python",
   "nbconvert_exporter": "python",
   "pygments_lexer": "ipython3",
   "version": "3.8.10"
  }
 },
 "nbformat": 4,
 "nbformat_minor": 2
}
